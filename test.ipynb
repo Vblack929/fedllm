{
 "cells": [
  {
   "cell_type": "code",
   "execution_count": 1,
   "metadata": {},
   "outputs": [
    {
     "name": "stderr",
     "output_type": "stream",
     "text": [
      "/Users/vblack/opt/miniconda3/envs/fedllm/lib/python3.8/site-packages/tqdm/auto.py:21: TqdmWarning: IProgress not found. Please update jupyter and ipywidgets. See https://ipywidgets.readthedocs.io/en/stable/user_install.html\n",
      "  from .autonotebook import tqdm as notebook_tqdm\n"
     ]
    }
   ],
   "source": [
    "import torch\n",
    "import copy\n",
    "from trl import SFTTrainer\n",
    "from transformers import TrainerCallback, Trainer\n",
    "from peft import get_peft_model_state_dict, set_peft_model_state_dict, LoraConfig, get_peft_model\n"
   ]
  },
  {
   "cell_type": "code",
   "execution_count": 2,
   "metadata": {},
   "outputs": [
    {
     "name": "stderr",
     "output_type": "stream",
     "text": [
      "Creating CSV from Arrow format: 100%|██████████| 25/25 [00:00<00:00, 42.51ba/s]\n",
      "Creating CSV from Arrow format: 100%|██████████| 25/25 [00:00<00:00, 46.36ba/s]\n",
      "Creating CSV from Arrow format: 100%|██████████| 50/50 [00:01<00:00, 43.10ba/s]"
     ]
    },
    {
     "name": "stdout",
     "output_type": "stream",
     "text": [
      "Dataset saved locally in the 'dataset' folder.\n"
     ]
    },
    {
     "name": "stderr",
     "output_type": "stream",
     "text": [
      "\n"
     ]
    }
   ],
   "source": [
    "from datasets import load_dataset\n",
    "import os\n",
    "\n",
    "# Load the IMDb dataset\n",
    "dataset = load_dataset('imdb')\n",
    "\n",
    "# Create a local directory to save the dataset\n",
    "os.makedirs('dataset', exist_ok=True)\n",
    "\n",
    "# Save the dataset locally in Arrow format\n",
    "dataset['train'].save_to_disk('dataset/imdb_train')\n",
    "dataset['test'].save_to_disk('dataset/imdb_test')\n",
    "dataset['unsupervised'].save_to_disk('dataset/imdb_unsupervised')\n",
    "\n",
    "print(\"Dataset saved locally in the 'dataset' folder in Arrow format.\")"
   ]
  },
  {
   "cell_type": "code",
   "execution_count": null,
   "metadata": {},
   "outputs": [],
   "source": []
  }
 ],
 "metadata": {
  "kernelspec": {
   "display_name": "fedllm",
   "language": "python",
   "name": "python3"
  },
  "language_info": {
   "codemirror_mode": {
    "name": "ipython",
    "version": 3
   },
   "file_extension": ".py",
   "mimetype": "text/x-python",
   "name": "python",
   "nbconvert_exporter": "python",
   "pygments_lexer": "ipython3",
   "version": "3.8.19"
  }
 },
 "nbformat": 4,
 "nbformat_minor": 2
}
